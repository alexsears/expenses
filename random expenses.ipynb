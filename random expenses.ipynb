{
 "cells": [
  {
   "cell_type": "code",
   "execution_count": 10,
   "metadata": {},
   "outputs": [
    {
     "name": "stdout",
     "output_type": "stream",
     "text": [
      "100.00%\r"
     ]
    },
    {
     "data": {
      "text/plain": [
       "0"
      ]
     },
     "execution_count": 10,
     "metadata": {},
     "output_type": "execute_result"
    }
   ],
   "source": [
    "import csv\n",
    "import os\n",
    "import tkinter as tk\n",
    "from tkinter import filedialog\n",
    "import datetime\n",
    "from faker import Faker\n",
    "\n",
    "# Create a Faker object\n",
    "fake = Faker()\n",
    "\n",
    "# Get the file path from the user using a file dialog\n",
    "root = tk.Tk()\n",
    "root.withdraw()\n",
    "file_path = filedialog.asksaveasfilename(defaultextension='.xlsx')\n",
    "\n",
    "# Create the excel file\n",
    "with open(file_path, mode='w', newline='') as file:\n",
    "    writer = csv.writer(file)\n",
    "    writer.writerow(['Expense Type', 'Employee', 'Employee ID', 'IA: FY', 'Sent for Payment Date', 'Report Name', 'Transaction Date', 'Payment Type', 'Reimbursement Currency', 'Claimed Amount', 'Custom 2 - Code', 'Custom 4 - Code', 'Custom 4 - Name', 'Account Code', 'Vendor', 'City/Location', 'Approved Amount (rpt)', 'Total(Approved Amount (rpt))', 'Total(Approved Amount (rpt))', 'Total(Approved Amount (rpt))'])\n",
    "    # Create 1000000 rows of fake data\n",
    "    for i in range(100000):\n",
    "        # add a percentage complete to the console\n",
    "        print(f'{i/100000*100:.2f}%', end='\\r')\n",
    "\n",
    "        year_start = datetime.date.today().replace(month=1, day=1)\n",
    "        year_end = datetime.date.today().replace(month=12, day=31)\n",
    "        date_end = fake.date_between(start_date=year_start, end_date=year_end)  # Get a random date within the current year\n",
    "        date_start = date_end.replace(year=date_end.year-1)  # Subtract one year from the date\n",
    "        writer.writerow([\n",
    "            fake.word(),  # Expense Type\n",
    "            fake.name(),  # Employee\n",
    "            fake.random_int(min=1000, max=9999),  # Employee ID\n",
    "            '2022',  # IA: FY\n",
    "            fake.date_between_dates(date_start=date_start, date_end=date_end),  # Sent for Payment Date\n",
    "            fake.sentence(),  # Report Name\n",
    "            fake.date_between_dates(date_start=datetime.date(2022, 1, 2), date_end=datetime.date(2022, 12, 30)),  # Transaction Date\n",
    "            fake.word(),  # Payment Type\n",
    "            fake.currency_code(),  # Reimbursement Currency\n",
    "            fake.random_int(min=1, max=10000),  # Claimed Amount\n",
    "            fake.word(),  # Custom 2 - Code\n",
    "            fake.word(),  # Custom 4 - Code\n",
    "            fake.word(),  # Custom 4 - Name\n",
    "            fake.random_int(min=1000, max=9999),  # Account Code\n",
    "            fake.company(),  # Vendor\n",
    "            fake.city(),  # City/Location\n",
    "            fake.random_int(min=1, max=10000),  # Approved Amount (rpt)\n",
    "            fake.random_int(min=1, max=10000),  # Total(Approved Amount (rpt))\n",
    "            fake.random_int(min=1, max=10000),  # Total(Approved Amount (rpt))\n",
    "            fake.random_int(min=1, max=10000),  # Total(Approved Amount (rpt))\n",
    "        ])\n",
    "\n",
    "# Open the CSV file in Excel\n",
    "os.system(f'start excel.exe \"{file_path}\"')\n"
   ]
  },
  {
   "attachments": {},
   "cell_type": "markdown",
   "metadata": {},
   "source": [
    "This will generate 100k fake lines of expense report data. I can fine tune the \"randomness\" but this is a bones package."
   ]
  }
 ],
 "metadata": {
  "kernelspec": {
   "display_name": "Python 3",
   "language": "python",
   "name": "python3"
  },
  "language_info": {
   "codemirror_mode": {
    "name": "ipython",
    "version": 3
   },
   "file_extension": ".py",
   "mimetype": "text/x-python",
   "name": "python",
   "nbconvert_exporter": "python",
   "pygments_lexer": "ipython3",
   "version": "3.11.2"
  },
  "orig_nbformat": 4
 },
 "nbformat": 4,
 "nbformat_minor": 2
}
